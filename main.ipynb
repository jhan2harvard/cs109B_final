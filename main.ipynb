{
 "cells": [
  {
   "cell_type": "markdown",
   "metadata": {
    "colab_type": "text",
    "id": "raI2_VQLKhvE"
   },
   "source": [
    "# Estimating Annual Radiation Intensities on Buildings using Neurel Network"
   ]
  },
  {
   "cell_type": "code",
   "execution_count": null,
   "metadata": {
    "colab": {},
    "colab_type": "code",
    "id": "IrCAUQ6nKhvF"
   },
   "outputs": [],
   "source": [
    "import sys, os, glob\n",
    "import calendar\n",
    "import matplotlib.pyplot as plt\n",
    "import seaborn as sns\n",
    "import pandas as pd\n",
    "import numpy as np\n",
    "from mpl_toolkits.mplot3d import Axes3D\n",
    "\n",
    "pd.set_option('display.max_colwidth', -1)"
   ]
  },
  {
   "cell_type": "markdown",
   "metadata": {},
   "source": [
    "## Pre-Processing"
   ]
  },
  {
   "cell_type": "markdown",
   "metadata": {},
   "source": [
    "- Get the file names of simulation results"
   ]
  },
  {
   "cell_type": "code",
   "execution_count": null,
   "metadata": {
    "colab": {
     "base_uri": "https://localhost:8080/",
     "height": 33
    },
    "colab_type": "code",
    "id": "pbpXjlxrLD34",
    "outputId": "ae1ca6be-62f0-4f4f-904c-df3e9549e4c0"
   },
   "outputs": [],
   "source": [
    "# you can later use this array to iterate through all files\n",
    "filepath = 'result' # replace this with the path in your drive to the cs109_ folder results_sample folder on the drive\n",
    "files = [file for file in glob.glob(filepath+\"/*.txt\")]\n",
    "print (\"NUMBER OF FILES IN RESULT FOLDER: \", len(files))"
   ]
  },
  {
   "cell_type": "markdown",
   "metadata": {
    "colab_type": "text",
    "id": "MVDPmhtgKhvL"
   },
   "source": [
    "##### Functions"
   ]
  },
  {
   "cell_type": "code",
   "execution_count": null,
   "metadata": {
    "colab": {},
    "colab_type": "code",
    "id": "w1Hb5CzXKhvL"
   },
   "outputs": [],
   "source": [
    "def getBuildingHeights(filename):\n",
    "    '''\n",
    "    input: name of result file\n",
    "    output: array of 3 heights of our target building (i.e [3,27,6])\n",
    "    '''\n",
    "    return filename.split(\"/\")[-1].replace(\".txt\", \"\").split(\",\")\n",
    "\n",
    "def createColumnMapper():\n",
    "    mapper = {0: \"x\", 1:\"y\", 2:\"z\"}\n",
    "    month = [calendar.month_name[i+1] for i in range(12)]\n",
    "    for i in range(3, 3+12):\n",
    "        mapper[i] = month[i-3]\n",
    "    return mapper\n",
    "\n",
    "def convertToDF(fname):\n",
    "    '''\n",
    "    input: name of result file\n",
    "    output: pandas df\n",
    "    '''\n",
    "    with open(fname) as f:\n",
    "        content = f.readlines()   \n",
    "    content = np.array([line.replace(\"\\n\", \"\").split(\",\") for line in content[1:]])\n",
    "    return pd.DataFrame(data=content)\n",
    "\n",
    "def matplotlibViz(df, angle1=None, angle2=None, s=1, z=None):\n",
    "    '''\n",
    "    Visualizes in 3D a dataframe\n",
    "    input: dataframe\n",
    "    output: None\n",
    "    '''\n",
    "    color = {0: 'blue', 1:'red'}\n",
    "    fig = plt.figure(figsize=(10,10))\n",
    "    ax = fig.add_subplot(111, projection='3d')\n",
    "    df = df.loc[(df['building'] == 1) & (df['z'] == z)] if z != None else df.loc[df['building'] == 1]\n",
    "    df['moved'] = df['moved'].apply(lambda x: color[int(x)])\n",
    "    ax.scatter(df['x'], df['y'], df['z'], s=s, color=df['moved'])\n",
    "    ax.set_xlabel('X axis')\n",
    "    ax.set_ylabel('Y axis')\n",
    "    ax.set_zlabel('Z axis')\n",
    "    ax.view_init(angle1, angle2)\n",
    "    plt.title(\"3-D rendered building\")\n",
    "    plt.show()\n",
    "    \n",
    "def convertToGridWithoutPad(df, size=(100,100,100), increment=1):\n",
    "    '''\n",
    "    zero pad all the coordinates that do not have radiation values (even the coordinates inside the building are zero padded).\n",
    "    input: dataframe\n",
    "    output: dataframe\n",
    "    \n",
    "    '''\n",
    "    res = []\n",
    "    temp = df[['x', 'y', 'z']]*2\n",
    "    # NEW RESULT WITH RAD VALUE (CHANGES START HERE)\n",
    "    temp['rad'] = df_building[['Annual Sum']]\n",
    "    temp = temp.apply(pd.to_numeric, errors='coerce', downcast=\"integer\")\n",
    "    # CREATE HASHMAP FOR RADIATION\n",
    "    hashmap = {}\n",
    "    for index, row in temp.iterrows():\n",
    "        hashmap[tuple(row[:-1])] = row[-1]\n",
    "    \n",
    "    for z in range(0, size[0]+increment, increment):\n",
    "        for y in range(0, size[0]+increment, increment):\n",
    "            for x in range(0, size[0]+increment, increment):\n",
    "                if (x,y,z) in hashmap:\n",
    "                    res.append([x,y,z,hashmap[(x,y,z)], 1, 1]) # FOURTH COLUMN WE ADD RADIATION\n",
    "                else:\n",
    "                    res.append([x,y,z,0,0, 1]) # FOURTH COLUMN WE ADD RADIATION, BUT ITS ALL ZERO BECAUSE IT'S INSIDE THE BUILDING\n",
    "    \n",
    "    return pd.DataFrame(data=res, columns=['x', 'y', 'z', 'rad', 'building', 'moved'])            \n",
    "                    \n",
    "    \n",
    "def convertToGrid(df, size=(100,100,100), increment=1):\n",
    "    '''\n",
    "    zero pad all the coordinates that do not have radiation values (even the coordinates inside the building are zero padded).\n",
    "    input: dataframe\n",
    "    output: dataframe\n",
    "    \n",
    "    '''\n",
    "    res = []\n",
    "    marked = set()\n",
    "    \n",
    "    temp = df[['x', 'y', 'z']]*2\n",
    "    temp['rad'] = df[['Annual Sum']]\n",
    "    temp = temp.apply(pd.to_numeric, errors='coerce', downcast=\"integer\")\n",
    "    # CREATE HASHMAP FOR RADIATION\n",
    "    hashmap = {}\n",
    "    for index, row in temp.iterrows():\n",
    "        hashmap[tuple(row[:-1])] = row[-1]\n",
    "    \n",
    "    temp = False\n",
    "    for z in range(0, size[0]+increment, increment):\n",
    "        for y in range(0, size[0]+increment, increment):\n",
    "            for x in range(0, size[0]+increment, increment):\n",
    "                if (x,y,z) in hashmap:\n",
    "                    if temp:\n",
    "                        res.append([x,y,z,hashmap[(x,y,z)], temp])\n",
    "                        temp = not temp\n",
    "                    else:\n",
    "                        temp = not temp\n",
    "                        res.append([x,y,z,hashmap[(x,y,z)], temp])\n",
    "                else:\n",
    "                    res.append([x,y,z,0,temp]) \n",
    "    \n",
    "    return pd.DataFrame(data=res, columns=['x', 'y', 'z', 'rad', 'building'])"
   ]
  },
  {
   "cell_type": "code",
   "execution_count": null,
   "metadata": {
    "colab": {},
    "colab_type": "code",
    "id": "CrycyhtaKhvQ"
   },
   "outputs": [],
   "source": [
    "def matplotlibViz(df, angle1=None, angle2=None, s=1, z=None):\n",
    "    '''\n",
    "    Visualizes in 3D a dataframe\n",
    "    input: dataframe\n",
    "    output: None\n",
    "    '''\n",
    "    color = {0: 'blue', 1:'red', 2:'green', 3: 'black'}\n",
    "    fig = plt.figure(figsize=(10,10))\n",
    "    ax = fig.add_subplot(111, projection='3d')\n",
    "    df = df.loc[(df['building'] == 1) & (df['z'] == z)] if z != None else df.loc[df['building'] == 1]\n",
    "    df['moved'] = df['moved'].apply(lambda x: color[int(x)])\n",
    "    ax.scatter(df['x'], df['y'], df['z'], s=s, color=df['moved'])\n",
    "    ax.set_xlabel('X axis')\n",
    "    ax.set_ylabel('Y axis')\n",
    "    ax.set_zlabel('Z axis')\n",
    "    ax.view_init(angle1, angle2)\n",
    "    plt.title(\"3-D rendered building\")\n",
    "    plt.show()\n",
    "\n",
    "def pushSurfacesInside(df, size=(100,100,100), increment=1):\n",
    "    res = []\n",
    "    temp = df[['x', 'y', 'z']]*2\n",
    "    temp['rad'] = df[['Annual Sum']]\n",
    "    temp = temp.apply(pd.to_numeric, errors='coerce', downcast=\"integer\")\n",
    "    # CREATE HASHMAP FOR RADIATION\n",
    "    radiationMap = {}\n",
    "    for index, row in temp.iterrows():\n",
    "        radiationMap[tuple(row[:-1])] = row[-1]\n",
    "    \n",
    "    # X - Axis PUSH INSIDE\n",
    "    for z in range(0, size[0]+increment, increment):\n",
    "        for y in range(0, size[0]+increment, increment):\n",
    "            for x in range(0, size[0]+increment, increment):\n",
    "                if (x,y,z) in radiationMap and (x+increment*2, y, z) not in radiationMap:\n",
    "                    res.append([x+1,y,z, radiationMap[(x,y,z)], 1, 1])\n",
    "                    break\n",
    "                elif (x,y,z) in radiationMap and (x+increment*2, y, z) in radiationMap:\n",
    "                    break\n",
    "            for x in reversed(range(0, size[0]+increment, increment)):\n",
    "                if (x,y,z) in radiationMap and (x-increment*2, y, z) not in radiationMap:\n",
    "                    res.append([x-1,y,z, radiationMap[(x,y,z)], 1, 2])\n",
    "                    break\n",
    "                elif (x,y,z) in radiationMap and (x-increment*2, y, z) in radiationMap:\n",
    "                    break\n",
    "    \n",
    "    # Y - Axis PUSH INSIDE\n",
    "    for z in range(0, size[0]+increment, increment):\n",
    "        for x in range(0, size[0]+increment, increment):\n",
    "            for y in range(0, size[0]+increment, increment):\n",
    "                if (x,y,z) in radiationMap and (x, y+increment*2, z) not in radiationMap:\n",
    "                    res.append([x,y+1,z, radiationMap[(x,y,z)], 1, 1])\n",
    "                    break\n",
    "                elif (x,y,z) in radiationMap and (x, y+increment*2, z) in radiationMap:\n",
    "                    break\n",
    "            for y in reversed(range(0, size[0]+increment, increment)):\n",
    "                if (x,y,z) in radiationMap and (x, y-increment*2, z) not in radiationMap:\n",
    "                    res.append([x,y-1,z, radiationMap[(x,y,z)], 1, 2])\n",
    "                    break\n",
    "                elif (x,y,z) in radiationMap and (x, y-increment*2, z) in radiationMap:\n",
    "                    break\n",
    "    \n",
    "    # Z - Axis PUSH INSIDE\n",
    "    for x in range(0, size[0]+increment, increment):\n",
    "        for y in range(0, size[0]+increment, increment):\n",
    "            for z in range(0, size[0]+increment, increment):\n",
    "                if (x,y,z) in radiationMap and (x, y, z+increment*2) not in radiationMap:\n",
    "                    res.append([x,y,z+1, radiationMap[(x,y,z)], 1, 0])\n",
    "                    break\n",
    "                elif (x,y,z) in radiationMap and (x, y, z+increment*2) in radiationMap:\n",
    "                    break\n",
    "            for z in reversed(range(0, size[0]+increment, increment)):\n",
    "                if (x,y,z) in radiationMap and (x, y, z-increment*2) not in radiationMap:\n",
    "                    res.append([x,y,z-1, radiationMap[(x,y,z)], 1, 0])\n",
    "                    break\n",
    "                elif (x,y,z) in radiationMap and (x, y, z-increment*2) in radiationMap:\n",
    "                    break\n",
    "                    \n",
    "    return pd.DataFrame(data=res, columns=['x', 'y', 'z', 'Annual Sum', 'building', 'moved'])  "
   ]
  },
  {
   "cell_type": "code",
   "execution_count": null,
   "metadata": {
    "colab": {},
    "colab_type": "code",
    "id": "7nK1LNeNKhvb"
   },
   "outputs": [],
   "source": [
    "import collections\n",
    "\n",
    "def removeOverlappingPoints(df):\n",
    "    '''\n",
    "    REMOVES OVERLAPPING COORDINATES THAT HAVE MORE THAN ONE VALUE\n",
    "    \n",
    "    '''\n",
    "    everyDataPointIncludingOverlaps =  [tuple(row[:3]) for idx, row in df.iterrows()]\n",
    "    hashmap = {tuple(row[:3]): row[3] for index, row in df.iterrows()}  # CREATE HASHMAP FOR RADIATION\n",
    "    counter = collections.Counter(everyDataPointIncludingOverlaps)\n",
    "    uniqueCoordinates = [k for k, v in counter.items() if v == 1]  \n",
    "#     print ('NUMBER OF UNIQUE COORDINATES' , len(uniqueCoordinates))\n",
    "    res = [list(row) for idx, row in df.iterrows() if tuple(row[:3]) in uniqueCoordinates]   \n",
    "    return pd.DataFrame(data=res, columns=['x', 'y', 'z', 'Annual Sum', 'building', 'moved']) \n"
   ]
  },
  {
   "cell_type": "code",
   "execution_count": null,
   "metadata": {
    "colab": {},
    "colab_type": "code",
    "id": "jvTsrtVfKhvm"
   },
   "outputs": [],
   "source": [
    "def convertToGrid(df, size=(100,100,100), increment=1):\n",
    "    '''\n",
    "    zero pad all the coordinates that do not have radiation values (even the coordinates inside the building are zero padded).\n",
    "    input: dataframe\n",
    "    output: dataframe\n",
    "    \n",
    "    '''\n",
    "    res = []\n",
    "    # CREATE HASHMAP FOR RADIATION\n",
    "    hashmap = {}\n",
    "    for index, row in df.iterrows():\n",
    "        hashmap[tuple(row[:3])] = row[4:]\n",
    "    \n",
    "    for z in range(0, size[0]+increment, increment):\n",
    "        for y in range(0, size[0]+increment, increment):\n",
    "            padding = False\n",
    "            for x in range(0, size[0]+increment, increment):\n",
    "                if (x,y,z) in hashmap and (x+increment*2, y, z) not in hashmap:\n",
    "                    x += increment*2\n",
    "                    while ((x,y,z) not in hashmap):\n",
    "                        res.append([x,y,z, 0, 1, 3])\n",
    "                        x += increment*2\n",
    "                    break\n",
    "                elif (x,y,z) in hashmap and (x+increment*2, y, z) in hashmap:\n",
    "                    break\n",
    "    original = [list(row) for index, row in df.iterrows()]\n",
    "    return pd.DataFrame(data=res+original, columns=['x', 'y', 'z', 'rad', 'building', 'moved'])"
   ]
  },
  {
   "cell_type": "code",
   "execution_count": null,
   "metadata": {
    "colab": {},
    "colab_type": "code",
    "id": "_YGlln_pMb2v"
   },
   "outputs": [],
   "source": [
    "def format_X_y(final):  \n",
    "    X_mat_formatted = np.zeros((50,50,50,1))\n",
    "    y_mat_formatted = np.zeros((50,50,50,1))\n",
    "\n",
    "    input_df = final[['x', 'y', 'z','rad']]\n",
    "    for row in input_df.itertuples():\n",
    "        idx_x = int((row.x/2)-0.5)\n",
    "        idx_y = int((row.y/2)-0.5)\n",
    "        idx_z = int((row.z/2)-0.5)\n",
    "\n",
    "        X_mat_formatted[idx_x, idx_y,idx_z,0] = 1\n",
    "        y_mat_formatted[idx_x, idx_y,idx_z,0] = row.rad\n",
    "\n",
    "    return X_mat_formatted, y_mat_formatted\n"
   ]
  },
  {
   "cell_type": "code",
   "execution_count": null,
   "metadata": {
    "colab": {},
    "colab_type": "code",
    "id": "mJyVZt5-v535"
   },
   "outputs": [],
   "source": [
    "def txt2matrix(filename):\n",
    "    df = convertToDF(filename)\n",
    "    if df.shape[1] > 4:\n",
    "        df_building = df.rename(index=int, columns=createColumnMapper()).rename(index=int, columns={15:\"Annual Sum\"}).apply(pd.to_numeric, errors='coerce')\n",
    "    else:\n",
    "        df_building = df.rename(index=int, columns={0:'x',1:'y',2:'z',3:'Annual Sum'})\n",
    "    df_building_pushed = pushSurfacesInside(df_building)\n",
    "    df_building_pushed_overlap_removed = removeOverlappingPoints(df_building_pushed)\n",
    "    final = convertToGrid(df_building_pushed_overlap_removed)\n",
    "    return format_X_y(final)"
   ]
  },
  {
   "cell_type": "markdown",
   "metadata": {},
   "source": [
    "- Process the data"
   ]
  },
  {
   "cell_type": "code",
   "execution_count": null,
   "metadata": {
    "colab": {},
    "colab_type": "code",
    "id": "yrru4ZRgv537",
    "outputId": "9c0d3b89-2c7b-4a15-9bf1-9ded3374ff97"
   },
   "outputs": [],
   "source": [
    "boundary, _ = txt2matrix('point_boundary.txt')"
   ]
  },
  {
   "cell_type": "code",
   "execution_count": null,
   "metadata": {},
   "outputs": [],
   "source": [
    "f"
   ]
  },
  {
   "cell_type": "code",
   "execution_count": null,
   "metadata": {},
   "outputs": [],
   "source": [
    "i"
   ]
  },
  {
   "cell_type": "code",
   "execution_count": null,
   "metadata": {
    "colab": {
     "base_uri": "https://localhost:8080/",
     "height": 33
    },
    "colab_type": "code",
    "id": "NCOj5b-NQORi",
    "outputId": "14ef5318-e76a-4bd1-a031-56d4fb37740a"
   },
   "outputs": [],
   "source": [
    "X = []\n",
    "Y = []\n",
    "for i, f in enumerate(files):\n",
    "    if i in [106, 182, 744, 1090, 1190, 1282]: # Some issue with (0,0,6),(22,0,14),(12,27,6)\n",
    "        continue\n",
    "    print('Processing '+str(i)+'/'+str(len(files))+' file',end='\\r')\n",
    "    npy_f_x = f.replace('.txt','_x.npy').replace('/','_npy/')\n",
    "    npy_f_y = f.replace('.txt','_y.npy').replace('/','_npy/')\n",
    "    if len(glob.glob(npy_f_x))==0 or len(glob.glob(npy_f_y))==0:\n",
    "        x, y = txt2matrix(f)\n",
    "        x += boundary\n",
    "        np.save(npy_f_x,x)\n",
    "        np.save(npy_f_y,y)\n",
    "    else:\n",
    "        x = np.load(npy_f_x)\n",
    "        y = np.load(npy_f_y)\n",
    "    X.append(x)\n",
    "    Y.append(y)\n",
    "    \n",
    "X = np.array(X)\n",
    "Y = np.array(Y)\n",
    "\n",
    "print (X.shape, Y.shape)"
   ]
  },
  {
   "cell_type": "code",
   "execution_count": null,
   "metadata": {},
   "outputs": [],
   "source": [
    "Y.max()"
   ]
  },
  {
   "cell_type": "code",
   "execution_count": null,
   "metadata": {},
   "outputs": [],
   "source": [
    "y_max = 1500\n",
    "Y /= y_max"
   ]
  },
  {
   "cell_type": "code",
   "execution_count": null,
   "metadata": {},
   "outputs": [],
   "source": [
    "from sklearn.model_selection import train_test_split"
   ]
  },
  {
   "cell_type": "code",
   "execution_count": null,
   "metadata": {},
   "outputs": [],
   "source": [
    "X_train, X_test, Y_train, Y_test = train_test_split(X, Y, test_size=0.2)\n",
    "print(X_train.shape, X_test.shape)"
   ]
  },
  {
   "cell_type": "markdown",
   "metadata": {},
   "source": [
    "## Model"
   ]
  },
  {
   "cell_type": "code",
   "execution_count": null,
   "metadata": {
    "colab": {},
    "colab_type": "code",
    "id": "EcFuvahzv54D"
   },
   "outputs": [],
   "source": [
    "import keras\n",
    "from keras import backend as K\n",
    "from keras.models import Model\n",
    "from keras.layers import Flatten, Dense, Input, Reshape, Lambda, Concatenate\n",
    "from keras.layers import Conv2D, MaxPooling2D, UpSampling2D, ZeroPadding2D, Permute\n",
    "from keras.layers import Conv3D, Deconvolution3D, MaxPooling3D, UpSampling3D, ZeroPadding3D"
   ]
  },
  {
   "cell_type": "markdown",
   "metadata": {},
   "source": [
    "#### Loss Function"
   ]
  },
  {
   "cell_type": "code",
   "execution_count": null,
   "metadata": {},
   "outputs": [],
   "source": [
    "def RadiationLoss(y_true, y_pred):\n",
    "    \"\"\"\n",
    "    Compute the loss for the radiation matrix.\n",
    "    \n",
    "    Inputs:\n",
    "    - y_true: radiation of the target building. 3D Tensor with radiation value at taget surface and others 0.\n",
    "    - y_pred: the prediction of the radiation.\n",
    "    \n",
    "    Returns:\n",
    "    - scalar mse loss, only calculated where radiation value not equal to zero\n",
    "    \"\"\"\n",
    "    \n",
    "    y_loc = K.cast(K.not_equal(y_true,K.constant(0)),'float')\n",
    "    return K.sum(K.pow(y_true-y_pred*y_loc,2))/K.sum(y_loc)\n",
    "    "
   ]
  },
  {
   "cell_type": "code",
   "execution_count": null,
   "metadata": {},
   "outputs": [],
   "source": [
    "matrix_size = (50, 50, 50, 1)\n",
    "\n",
    "inp = Input(matrix_size)\n",
    "\n",
    "# Voxnet structure + autoencoder\n",
    "enc = Conv3D(32, kernel_size=5, strides=2, padding='same', activation='relu')(inp)\n",
    "enc = Conv3D(32, kernel_size=3, strides=1, padding='same', activation='relu')(enc)\n",
    "enc = MaxPooling3D((2,2,2))(enc)\n",
    "\n",
    "enc = Conv3D(64, kernel_size=5, strides=2, padding='same', activation='relu')(enc)\n",
    "enc = Conv3D(64, kernel_size=3, strides=1, padding='same', activation='relu')(enc)\n",
    "enc = MaxPooling3D((2,2,2))(enc)\n",
    "conv_shape = enc.get_shape().as_list()\n",
    "\n",
    "enc = Flatten()(enc)\n",
    "latent = Dense(256, activation='relu')(enc)\n",
    "\n",
    "dec = Dense(np.prod(conv_shape[1:]), activation='relu')(latent)\n",
    "dec = Reshape(conv_shape[1:])(dec)\n",
    "\n",
    "dec = UpSampling3D((2,2,2))(dec)\n",
    "dec = Deconvolution3D(64, kernel_size=3, strides=1, padding='same', activation='relu')(dec)\n",
    "dec = Deconvolution3D(64, kernel_size=5, strides=2, padding='same', activation='relu')(dec)\n",
    "\n",
    "dec = UpSampling3D((2,2,2))(dec)\n",
    "dec = ZeroPadding3D(((0,1),(0,1),(0,1)))(dec) # pad 0s at one side to match the size\n",
    "dec = Deconvolution3D(32, kernel_size=3, strides=1, padding='same', activation='relu')(dec)\n",
    "dec = Deconvolution3D(32, kernel_size=5, strides=2, padding='same', activation='relu')(dec)\n",
    "\n",
    "out = Conv3D(1, kernel_size=3, strides=1, padding='same', activation='sigmoid')(dec) # Assume normalized data [0,1]\n",
    "\n",
    "voxnet_model = Model(inp, out)\n",
    "voxnet_model.compile(optimizer='adam',loss=RadiationLoss)"
   ]
  },
  {
   "cell_type": "code",
   "execution_count": null,
   "metadata": {},
   "outputs": [],
   "source": [
    "voxnet_model.summary()"
   ]
  },
  {
   "cell_type": "code",
   "execution_count": null,
   "metadata": {},
   "outputs": [],
   "source": [
    "history = voxnet_model.fit(X_train, Y_train, epochs=5, validation_data=(X_test, Y_test))"
   ]
  },
  {
   "cell_type": "code",
   "execution_count": null,
   "metadata": {},
   "outputs": [],
   "source": [
    "Y_plt.shape"
   ]
  },
  {
   "cell_type": "code",
   "execution_count": null,
   "metadata": {},
   "outputs": [],
   "source": [
    "_=plt.hist(Y_plt)"
   ]
  },
  {
   "cell_type": "code",
   "execution_count": null,
   "metadata": {},
   "outputs": [],
   "source": [
    "def pltRadiationDistribution(y_true, y_pred, ax=None):\n",
    "    y_true = y_true.reshape((-1,))\n",
    "    y_pred = y_pred.reshape((-1,))\n",
    "    y_pred = y_pred[y_true!=0]\n",
    "    y_true = y_true[y_true!=0]\n",
    "    plt_idx = np.argsort(y_true)\n",
    "    if ax is None:\n",
    "        plt.scatter(range(len(plt_idx)), y_true[plt_idx])\n",
    "        plt.scatter(range(len(plt_idx)), y_pred[plt_idx])\n",
    "        plt.xlabel('voxel index')\n",
    "        plt.ylabel('radiation (normalize)')\n",
    "        _=plt.legend(['truth','predict'])\n",
    "    else:\n",
    "        ax.scatter(range(len(plt_idx)), y_true[plt_idx])\n",
    "        ax.scatter(range(len(plt_idx)), y_pred[plt_idx])\n",
    "        ax.set_xlabel('voxel index')\n",
    "        ax.set_ylabel('radiation (normalize)')\n",
    "        ax.legend(['truth','predict'])\n"
   ]
  },
  {
   "cell_type": "code",
   "execution_count": null,
   "metadata": {},
   "outputs": [],
   "source": [
    "fig, axes = plt.subplots(1,5, figsize=(50,10))\n",
    "for i in range(5):\n",
    "    idx = np.random.randint(len(Y_test))\n",
    "    pltRadiationDistribution(Y_test[idx], voxnet_model.predict(np.expand_dims(X_test[idx],axis=0))[0],ax=axes[i])"
   ]
  },
  {
   "cell_type": "code",
   "execution_count": null,
   "metadata": {},
   "outputs": [],
   "source": []
  }
 ],
 "metadata": {
  "colab": {
   "collapsed_sections": [],
   "name": "main.ipynb",
   "provenance": [],
   "version": "0.3.2"
  },
  "kernelspec": {
   "display_name": "Python 3",
   "language": "python",
   "name": "python3"
  },
  "language_info": {
   "codemirror_mode": {
    "name": "ipython",
    "version": 3
   },
   "file_extension": ".py",
   "mimetype": "text/x-python",
   "name": "python",
   "nbconvert_exporter": "python",
   "pygments_lexer": "ipython3",
   "version": "3.6.8"
  }
 },
 "nbformat": 4,
 "nbformat_minor": 1
}
