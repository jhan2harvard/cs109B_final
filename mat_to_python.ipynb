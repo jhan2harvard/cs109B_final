{
 "cells": [
  {
   "cell_type": "code",
   "execution_count": 30,
   "metadata": {
    "colab": {},
    "colab_type": "code",
    "collapsed": true,
    "id": "IrCAUQ6nKhvF"
   },
   "outputs": [],
   "source": [
    "import sys, os, glob\n",
    "import calendar\n",
    "import matplotlib.pyplot as plt\n",
    "import seaborn as sns\n",
    "import pandas as pd\n",
    "import numpy as np\n",
    "from mpl_toolkits.mplot3d import Axes3D\n",
    "from IPython.display import clear_output\n",
    "import scipy.io\n",
    "\n",
    "pd.set_option('display.max_colwidth', -1)"
   ]
  },
  {
   "cell_type": "code",
   "execution_count": 31,
   "metadata": {
    "colab": {
     "base_uri": "https://localhost:8080/",
     "height": 33
    },
    "colab_type": "code",
    "id": "pbpXjlxrLD34",
    "outputId": "ae1ca6be-62f0-4f4f-904c-df3e9549e4c0"
   },
   "outputs": [
    {
     "name": "stdout",
     "output_type": "stream",
     "text": [
      "NUMBER OF FILES IN RESULT FOLDER:  2116\n"
     ]
    }
   ],
   "source": [
    "# GET ALL FILES THAT ENDS WITH .MAT EXTENSION\n",
    "FILEPATH = 'preprocessed_output'\n",
    "files = [file for file in glob.glob(FILEPATH + \"/*.mat\")]\n",
    "print (\"NUMBER OF FILES IN RESULT FOLDER: \", len(files))"
   ]
  },
  {
   "cell_type": "code",
   "execution_count": 32,
   "metadata": {},
   "outputs": [
    {
     "name": "stdout",
     "output_type": "stream",
     "text": [
      "(50, 50, 50)\n",
      "(50, 50, 50)\n"
     ]
    }
   ],
   "source": [
    "# TEST\n",
    "mat = scipy.io.loadmat(files[0])\n",
    "X = mat['X_input']\n",
    "y = mat['y_rad']\n",
    "print (X.shape)\n",
    "print (y.shape)"
   ]
  },
  {
   "cell_type": "code",
   "execution_count": 33,
   "metadata": {},
   "outputs": [
    {
     "name": "stdout",
     "output_type": "stream",
     "text": [
      "[Input X]\n",
      "Min: 0 Max: 1\n",
      "\n",
      "[Input y]\n",
      "Min: 0.0 Max: 1395.8\n"
     ]
    }
   ],
   "source": [
    "print (\"[Input X]\\nMin:\" , X.min(), \"Max:\", X.max())\n",
    "print ()\n",
    "print (\"[Input y]\\nMin:\" , y.min(), \"Max:\", y.max())"
   ]
  },
  {
   "cell_type": "code",
   "execution_count": 29,
   "metadata": {},
   "outputs": [
    {
     "name": "stdout",
     "output_type": "stream",
     "text": [
      "(2116, 50, 50, 50)\n",
      "(2116, 50, 50, 50)\n"
     ]
    }
   ],
   "source": [
    "X, y = [], []\n",
    "for item in files:\n",
    "    mat = scipy.io.loadmat(item)\n",
    "    X.append(mat['X_input'])\n",
    "    y.append(mat['y_rad'])\n",
    "\n",
    "X = np.array(X)\n",
    "y = np.array(y)\n",
    "\n",
    "print (X.shape)\n",
    "print (y.shape)"
   ]
  },
  {
   "cell_type": "code",
   "execution_count": null,
   "metadata": {
    "collapsed": true
   },
   "outputs": [],
   "source": []
  }
 ],
 "metadata": {
  "kernelspec": {
   "display_name": "Python 3",
   "language": "python",
   "name": "python3"
  },
  "language_info": {
   "codemirror_mode": {
    "name": "ipython",
    "version": 3
   },
   "file_extension": ".py",
   "mimetype": "text/x-python",
   "name": "python",
   "nbconvert_exporter": "python",
   "pygments_lexer": "ipython3",
   "version": "3.6.3"
  }
 },
 "nbformat": 4,
 "nbformat_minor": 2
}
