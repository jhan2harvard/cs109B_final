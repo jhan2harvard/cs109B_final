{
 "cells": [
  {
   "cell_type": "markdown",
   "metadata": {},
   "source": [
    "### INSTRUCTION\n",
    "\n",
    "DOWNLOAD : https://www.dropbox.com/sh/fo4rhiceyllqybd/AADWiUrZ4xKRuhfGMdXi6xiYa?dl=0\n",
    "\n",
    "DOWNLOAD : https://www.dropbox.com/home/109B_Final/Models?preview=combined_boundary.mat\n",
    "\n",
    "DOWNLOAD AND UNZIP THE FIRST ONE, AND PUT THE UNZIPED FOLDER AND THE SECOND DOWNLOADED MAT FILE IN THE SAME DIRECTORY AS THIS JUPYTER NOTEBOOK. THEN, RUN EVERY CELL.  THE LAST CELL MATPLOTLIB VISUALIZATION IS INTERACTIVE (ALTHOUGH A LITTLE SLOW)."
   ]
  },
  {
   "cell_type": "code",
   "execution_count": null,
   "metadata": {
    "colab": {},
    "colab_type": "code",
    "id": "IrCAUQ6nKhvF"
   },
   "outputs": [],
   "source": [
    "import sys, os, glob\n",
    "import calendar\n",
    "import matplotlib.pyplot as plt\n",
    "import seaborn as sns\n",
    "import pandas as pd\n",
    "import numpy as np\n",
    "from mpl_toolkits.mplot3d import Axes3D\n",
    "from IPython.display import clear_output\n",
    "import scipy.io\n",
    "pd.set_option('display.max_colwidth', -1)"
   ]
  },
  {
   "cell_type": "markdown",
   "metadata": {},
   "source": [
    "###### TRANSFORM MAT FILE TO NUMPY FOR MODEL INPUT"
   ]
  },
  {
   "cell_type": "code",
   "execution_count": null,
   "metadata": {
    "colab": {
     "base_uri": "https://localhost:8080/",
     "height": 33
    },
    "colab_type": "code",
    "id": "pbpXjlxrLD34",
    "outputId": "ae1ca6be-62f0-4f4f-904c-df3e9549e4c0"
   },
   "outputs": [],
   "source": [
    "# GET ALL FILES THAT ENDS WITH .MAT EXTENSION\n",
    "FILEPATH = 'preprocessed_output_combined_with_boundary'\n",
    "files = [file for file in glob.glob(FILEPATH + \"/*.mat\")]\n",
    "print (\"NUMBER OF FILES IN RESULT FOLDER: \", len(files))"
   ]
  },
  {
   "cell_type": "code",
   "execution_count": null,
   "metadata": {},
   "outputs": [],
   "source": [
    "# TEST\n",
    "mat = scipy.io.loadmat(files[0])\n",
    "X = mat['X_input']\n",
    "y = mat['y_rad']\n",
    "print (X.shape)\n",
    "print (y.shape)"
   ]
  },
  {
   "cell_type": "code",
   "execution_count": null,
   "metadata": {},
   "outputs": [],
   "source": [
    "# TAKES ABOUT 15 SECONDS.\n",
    "X, y = [], []\n",
    "cnt, total = 0, len(files)\n",
    "for item in files:\n",
    "    cnt += 1\n",
    "    print (\"PROGRESS: \", round(cnt / total * 100, 5), \"%\")\n",
    "    clear_output(wait=True)\n",
    "    mat = scipy.io.loadmat(item)\n",
    "    X.append(mat['X_input'])\n",
    "    y.append(mat['y_rad'])\n",
    "\n",
    "X = np.array(X)\n",
    "y = np.array(y)\n",
    "\n",
    "print (X.shape)\n",
    "print (y.shape)"
   ]
  },
  {
   "cell_type": "code",
   "execution_count": null,
   "metadata": {
    "scrolled": true
   },
   "outputs": [],
   "source": [
    "# SANITY CHECKS\n",
    "print (\"[Input X]\\nMin:\" , X.min(), \"Max:\", X.max())\n",
    "print ()\n",
    "print (\"[Input y]\\nMin:\" , y.min(), \"Max:\", y.max())\n",
    "print ()\n",
    "print ('INPUT UNIQUE (SHOULD BE [0,1]): ', np.unique(X))"
   ]
  },
  {
   "cell_type": "markdown",
   "metadata": {},
   "source": [
    "###### PREPROCESS TO SHOW ON MATPLOTLIB"
   ]
  },
  {
   "cell_type": "code",
   "execution_count": null,
   "metadata": {},
   "outputs": [],
   "source": [
    "WHICH_FILE = 15 # CHANGE THIS TO SEE WHICH FILE YOU WANT TO VISUALIZE\n",
    "temp = X[WHICH_FILE]\n",
    "res = []\n",
    "color = {0: 'blue', 1:'red'}\n",
    "\n",
    "boundary = scipy.io.loadmat('combined_boundary.mat')\n",
    "boundary = boundary['boundary_building_mat']\n",
    "\n",
    "for i in range(0, 51):\n",
    "    for j in range(0, 51):\n",
    "        for k in range(0, 51):\n",
    "            if temp[i][j][k] > 0:\n",
    "                    res.append([i,j,k,boundary[i][j][k]])\n",
    "\n",
    "df = pd.DataFrame(data=res)  \n",
    "df[3] = df[3].apply(lambda x: color[int(x)])\n",
    "df.head()"
   ]
  },
  {
   "cell_type": "code",
   "execution_count": null,
   "metadata": {},
   "outputs": [],
   "source": [
    "%matplotlib notebook\n",
    "color = {0: 'blue', 1:'red'}\n",
    "fig = plt.figure(figsize=(10,10))\n",
    "ax = fig.add_subplot(111, projection='3d')\n",
    "ax.scatter(df[0], df[1], df[2], s=2, color=df[3])\n",
    "ax.set_xlabel('X axis')\n",
    "ax.set_ylabel('Y axis')\n",
    "ax.set_zlabel('Z axis')\n",
    "plt.show()"
   ]
  },
  {
   "cell_type": "markdown",
   "metadata": {},
   "source": [
    "###### NOTE TO CHIH\n",
    "\n",
    "X IS THE BUILDING (0 OR 1) AND Y CONTAINS THE RADIATION VALUE."
   ]
  },
  {
   "cell_type": "code",
   "execution_count": null,
   "metadata": {},
   "outputs": [],
   "source": [
    "print (X.shape) # building or not\n",
    "print (y.shape) # radiation value"
   ]
  }
 ],
 "metadata": {
  "kernelspec": {
   "display_name": "Python 3",
   "language": "python",
   "name": "python3"
  },
  "language_info": {
   "codemirror_mode": {
    "name": "ipython",
    "version": 3
   },
   "file_extension": ".py",
   "mimetype": "text/x-python",
   "name": "python",
   "nbconvert_exporter": "python",
   "pygments_lexer": "ipython3",
   "version": "3.6.8"
  }
 },
 "nbformat": 4,
 "nbformat_minor": 2
}
