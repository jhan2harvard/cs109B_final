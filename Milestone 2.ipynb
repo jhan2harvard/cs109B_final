{
 "cells": [
  {
   "cell_type": "markdown",
   "metadata": {},
   "source": [
    "### EDA\n",
    "Our project is a proof-of-concept model, so we set hard boundaries for the surrounding buildings, and the buildings that we would like to predict radiation. We have a single building that we would like to predict, and this consists of three fixed subunits that differ in heights. We then have 5 different buildings surrounding our target building, that would also have different shapes, but these surrounding buildings do not have any subunits.\n",
    "\n",
    "With fixed boundary conditions (surrounding buildings), we change the heights of the subunits of our target building, and predict the monthly and annual radiation amount for each face of our target building.\n",
    "\n",
    "FIXED VARIABLE: \n",
    "- NUMBER OF BOUNDARY BUILDINGS\n",
    "- WIDTH AND HEIGHT OF THESE BOUNDARY BUILDINGS\n",
    "- WIDTH AND HEIGHT OF THE SUB-BUILDINGS OF OUR TARGET BUILDING\n",
    "\n",
    "NON-FIXED VARIABLE:\n",
    "- THE HEIGHTS OF THE SUB-BUILDINGS OF OUR TARGET BUILDING\n",
    "\n",
    "PREDICTION: MONTHLY/ANNUAL RADIATION AMOUNT FOR THE FACES OF OUR TARGET BUILDING"
   ]
  },
  {
   "cell_type": "markdown",
   "metadata": {},
   "source": [
    "###### TOTAL NUMBER OF DATA SO FAR (WE PLAN TO ADD MORE AFTER SIMULATION)"
   ]
  },
  {
   "cell_type": "code",
   "execution_count": null,
   "metadata": {},
   "outputs": [],
   "source": [
    "!ls -1 result | wc -l"
   ]
  },
  {
   "cell_type": "code",
   "execution_count": null,
   "metadata": {},
   "outputs": [],
   "source": [
    "import pandas as pd\n",
    "import numpy as np\n",
    "import sys\n",
    "import calendar\n",
    "import matplotlib.pyplot as plt\n",
    "import seaborn as sns\n",
    "sns.set()"
   ]
  },
  {
   "cell_type": "code",
   "execution_count": null,
   "metadata": {},
   "outputs": [],
   "source": [
    "mapper = {0: \"x\", 1:\"y\", 2:\"z\"}\n",
    "month = [calendar.month_name[i+1] for i in range(12)]\n",
    "\n",
    "for i in range(3, 3+12):\n",
    "    mapper[i] = month[i-3]\n",
    "df = pd.read_fwf(\"result/12,27,6.txt\")\n",
    "df = df[list(df)[0]].str.split(\",\", n = 15, expand = True) \n",
    "df_building = df.rename(index=int, columns=mapper).rename(index=int, columns={15:\"Annual Sum\"})\n",
    "df_building = df_building.apply(pd.to_numeric, errors='coerce')"
   ]
  },
  {
   "cell_type": "markdown",
   "metadata": {},
   "source": [
    "###### Sample model data\n",
    "The first three columns represent the coordinates of faces of our building. We then have monthly radiations, and the annual radiation sum. <u>It is important to understand that these x, y, z coordinates represent the central point of the 'faces' of the building.</u>"
   ]
  },
  {
   "cell_type": "code",
   "execution_count": null,
   "metadata": {},
   "outputs": [],
   "source": [
    "df_building.head(5)"
   ]
  },
  {
   "cell_type": "markdown",
   "metadata": {},
   "source": [
    "###### Sample boundary data\n",
    "The boundary data only have heights for each building, because we are not interested in how much radiation these boundary (surrounding) buildings block. Below shows a data format of one of the five boundary buildings."
   ]
  },
  {
   "cell_type": "code",
   "execution_count": null,
   "metadata": {},
   "outputs": [],
   "source": [
    "mapper = {0: \"x\", 1:\"y\", 2:\"z\"}\n",
    "\n",
    "df = pd.read_fwf(\"boundary/bd1.txt\")\n",
    "df = df[str(len(df))].str.split(\",\", n = 15, expand = True) \n",
    "df_boundary = df.rename(index=int, columns=mapper).rename(index=int, columns={15:\"Annual Sum\"})"
   ]
  },
  {
   "cell_type": "code",
   "execution_count": null,
   "metadata": {
    "scrolled": true
   },
   "outputs": [],
   "source": [
    "df_boundary.head(5)"
   ]
  },
  {
   "cell_type": "markdown",
   "metadata": {},
   "source": [
    "###### Annual radiation change for different coordinates"
   ]
  },
  {
   "cell_type": "code",
   "execution_count": null,
   "metadata": {},
   "outputs": [],
   "source": [
    "from IPython.display import Image\n",
    "Image(\"Images/nocoord.JPG\",width=500, height=500)"
   ]
  },
  {
   "cell_type": "code",
   "execution_count": null,
   "metadata": {},
   "outputs": [],
   "source": [
    "plt.figure(figsize = (18,3))\n",
    "ax = plt.subplot(1,3,1)\n",
    "ax.set_title(\"Annual radiation change for different x coordinate\")\n",
    "df_building.groupby([\"x\"]).mean()[[\"Annual Sum\"]].plot(ax=plt.gca())\n",
    "ax = plt.subplot(1,3,2)\n",
    "ax.set_title(\"Annual radiation change for different y coordinate\")\n",
    "df_building.groupby([\"y\"]).mean()[[\"Annual Sum\"]].plot(ax=plt.gca())\n",
    "ax = plt.subplot(1,3,3)\n",
    "ax.set_title(\"Annual radiation change for different z coordinate\")\n",
    "df_building.groupby([\"z\"]).mean()[[\"Annual Sum\"]].plot(ax=plt.gca())\n",
    "# plt.title('Annual radiation change relative to x-axis')\n",
    "plt.show()"
   ]
  },
  {
   "cell_type": "markdown",
   "metadata": {},
   "source": [
    "###### Monthly radiation changes\n",
    "\n",
    "We expect our radiation to be larger during the summer, because there is more sunlight during this season. This confirms our intuition."
   ]
  },
  {
   "cell_type": "code",
   "execution_count": null,
   "metadata": {},
   "outputs": [],
   "source": [
    "cols = list(df_building)\n",
    "for i in range(3):\n",
    "    cols.pop(0)\n",
    "cols.pop()\n",
    "\n",
    "df_building.mean()[cols].to_frame().plot(figsize = (15,5))\n",
    "plt.title(\"Monthly average radiation\")\n",
    "plt.xticks([i for i in range(len(cols))], cols)\n",
    "plt.show()"
   ]
  },
  {
   "cell_type": "markdown",
   "metadata": {},
   "source": [
    "### Functions we will use"
   ]
  },
  {
   "cell_type": "code",
   "execution_count": null,
   "metadata": {},
   "outputs": [],
   "source": [
    "import sys, os, glob\n",
    "import calendar\n",
    "import matplotlib.pyplot as plt\n",
    "import seaborn as sns\n",
    "import pandas as pd\n",
    "import numpy as np\n",
    "from mpl_toolkits.mplot3d import Axes3D\n",
    "\n",
    "pd.set_option('display.max_colwidth', -1)"
   ]
  },
  {
   "cell_type": "code",
   "execution_count": null,
   "metadata": {},
   "outputs": [],
   "source": [
    "def getBuildingHeights(filename):\n",
    "    '''\n",
    "    input: name of result file\n",
    "    output: array of 3 heights of our target building (i.e [3,27,6])\n",
    "    '''\n",
    "    return filename.split(\"/\")[-1].replace(\".txt\", \"\").split(\",\")\n",
    "\n",
    "def createColumnMapper():\n",
    "    mapper = {0: \"x\", 1:\"y\", 2:\"z\"}\n",
    "    month = [calendar.month_name[i+1] for i in range(12)]\n",
    "    for i in range(3, 3+12):\n",
    "        mapper[i] = month[i-3]\n",
    "    return mapper\n",
    "\n",
    "def convertToDF(fname):\n",
    "    '''\n",
    "    input: name of result file\n",
    "    output: pandas df\n",
    "    '''\n",
    "    with open(fname) as f:\n",
    "        content = f.readlines()   \n",
    "    content = np.array([line.replace(\"\\n\", \"\").split(\",\") for line in content[1:]])\n",
    "    return pd.DataFrame(data=content)\n",
    "\n",
    "def matplotlibViz(df):\n",
    "    '''\n",
    "    Visualizes in 3D a dataframe\n",
    "    input: dataframe\n",
    "    output: None\n",
    "    '''\n",
    "    fig = plt.figure(figsize=(8,8))\n",
    "    ax = fig.add_subplot(111, projection='3d')\n",
    "    ax.scatter(df['x'], df['y'], df['z'])\n",
    "    plt.title(\"3-D rendered building\")\n",
    "    plt.show()\n",
    "\n",
    "def convertToGrid(df, size=(100,100,100), increment=1):\n",
    "    '''\n",
    "    zero pad all the coordinates that do not have radiation values (even the coordinates inside the building are zero padded).\n",
    "    input: dataframe\n",
    "    output: dataframe\n",
    "    \n",
    "    '''\n",
    "    res = []\n",
    "    temp = df_building[['x', 'y', 'z']]*2\n",
    "    temp = temp.apply(pd.to_numeric, errors='coerce', downcast=\"integer\")\n",
    "    hashmap = {tuple(row) for index, row in temp.iterrows()}\n",
    "\n",
    "    for x in range(0, size[0]+increment, increment):\n",
    "        for y in range(0, size[0]+increment, increment):\n",
    "            for z in range(0, size[0]+increment, increment):\n",
    "                if (x,y,z) in hashmap:\n",
    "                    res.append([x,y,z,1])\n",
    "                else:\n",
    "                    res.append([x,y,z,0])\n",
    "    \n",
    "    assert len(res) == (size[0]+1)**3\n",
    "    return pd.DataFrame(data=res)"
   ]
  },
  {
   "cell_type": "code",
   "execution_count": null,
   "metadata": {},
   "outputs": [],
   "source": []
  }
 ],
 "metadata": {
  "kernelspec": {
   "display_name": "Python 3",
   "language": "python",
   "name": "python3"
  },
  "language_info": {
   "codemirror_mode": {
    "name": "ipython",
    "version": 3
   },
   "file_extension": ".py",
   "mimetype": "text/x-python",
   "name": "python",
   "nbconvert_exporter": "python",
   "pygments_lexer": "ipython3",
   "version": "3.6.8"
  }
 },
 "nbformat": 4,
 "nbformat_minor": 2
}
