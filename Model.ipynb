{
 "cells": [
  {
   "cell_type": "code",
   "execution_count": null,
   "metadata": {},
   "outputs": [],
   "source": [
    "import numpy as np\n",
    "import keras\n",
    "from keras import backend as K\n",
    "from keras.models import Model\n",
    "from keras.layers import Flatten, Dense, Input, Reshape, Lambda, Concatenate\n",
    "from keras.layers import Conv2D, MaxPooling2D, UpSampling2D, ZeroPadding2D, Permute\n",
    "from keras.layers import Conv3D, Deconvolution3D, MaxPooling3D, UpSampling3D, ZeroPadding3D"
   ]
  },
  {
   "cell_type": "markdown",
   "metadata": {},
   "source": [
    "- Define the loss function and verify it"
   ]
  },
  {
   "cell_type": "code",
   "execution_count": null,
   "metadata": {},
   "outputs": [],
   "source": [
    "def RadiationLoss(y_true, y_pred):\n",
    "    \"\"\"\n",
    "    Compute the loss for the radiation matrix.\n",
    "    \n",
    "    Inputs:\n",
    "    - y_true: radiation of the target building. 3D Tensor with radiation value at taget surface and others 0.\n",
    "    - y_pred: the prediction of the radiation.\n",
    "    \n",
    "    Returns:\n",
    "    - scalar mse loss, only calculated where radiation value not equal to zero\n",
    "    \"\"\"\n",
    "    \n",
    "    y_loc = K.cast(K.not_equal(y_true,K.constant(0)),'float')\n",
    "    return K.sum(K.pow(y_true-y_pred*y_loc,2))/K.sum(y_loc)\n",
    "    "
   ]
  },
  {
   "cell_type": "code",
   "execution_count": null,
   "metadata": {},
   "outputs": [],
   "source": [
    "radiation = np.random.randn(10,10,10,1)\n",
    "radiation[:5,:5,:5,:] = 0\n",
    "prediction = np.random.randn(10,10,10,1)\n",
    "a = K.constant(radiation)\n",
    "b = K.constant(prediction)\n",
    "loss = RadiationLoss(a, b)\n",
    "print('Result:          ', K.eval(loss))\n",
    "print('Expected result: ', np.sum((radiation-prediction*(radiation!=0))**2)/np.sum(radiation!=0))"
   ]
  },
  {
   "cell_type": "markdown",
   "metadata": {},
   "source": [
    "- Define the network with Voxnet structure"
   ]
  },
  {
   "cell_type": "code",
   "execution_count": null,
   "metadata": {},
   "outputs": [],
   "source": [
    "matrix_size = (50, 50, 50, 1)\n",
    "\n",
    "inp = Input(matrix_size)\n",
    "\n",
    "# Voxnet structure + autoencoder\n",
    "enc = Conv3D(32, kernel_size=5, strides=2, padding='same', activation='relu')(inp)\n",
    "enc = Conv3D(32, kernel_size=3, strides=1, padding='same', activation='relu')(enc)\n",
    "enc = MaxPooling3D((2,2,2))(enc)\n",
    "\n",
    "enc = Conv3D(64, kernel_size=5, strides=2, padding='same', activation='relu')(enc)\n",
    "enc = Conv3D(64, kernel_size=3, strides=1, padding='same', activation='relu')(enc)\n",
    "enc = MaxPooling3D((2,2,2))(enc)\n",
    "conv_shape = enc.get_shape().as_list()\n",
    "\n",
    "enc = Flatten()(enc)\n",
    "latent = Dense(256, activation='relu')(enc)\n",
    "\n",
    "dec = Dense(np.prod(conv_shape[1:]), activation='relu')(latent)\n",
    "dec = Reshape(conv_shape[1:])(dec)\n",
    "\n",
    "dec = UpSampling3D((2,2,2))(dec)\n",
    "dec = Deconvolution3D(64, kernel_size=3, strides=1, padding='same', activation='relu')(dec)\n",
    "dec = Deconvolution3D(64, kernel_size=5, strides=2, padding='same', activation='relu')(dec)\n",
    "\n",
    "dec = UpSampling3D((2,2,2))(dec)\n",
    "dec = ZeroPadding3D(((0,1),(0,1),(0,1)))(dec) # pad 0s at one side to match the size\n",
    "dec = Deconvolution3D(32, kernel_size=3, strides=1, padding='same', activation='relu')(dec)\n",
    "dec = Deconvolution3D(32, kernel_size=5, strides=2, padding='same', activation='relu')(dec)\n",
    "\n",
    "out = Conv3D(1, kernel_size=3, strides=1, padding='same', activation='sigmoid')(dec) # Assume normalized data [0,1]\n",
    "\n",
    "voxnet_model = Model(inp, out)\n",
    "voxnet_model.compile(optimizer='adam',loss=RadiationLoss)"
   ]
  },
  {
   "cell_type": "code",
   "execution_count": null,
   "metadata": {},
   "outputs": [],
   "source": [
    "voxnet_model.summary()"
   ]
  },
  {
   "cell_type": "code",
   "execution_count": null,
   "metadata": {},
   "outputs": [],
   "source": [
    "X = np.random.rand(128, 50, 50, 50, 1)\n",
    "y = np.random.rand(128, 50, 50, 50, 1)\n",
    "y[:,:25,:,:,:] = 0"
   ]
  },
  {
   "cell_type": "code",
   "execution_count": null,
   "metadata": {},
   "outputs": [],
   "source": [
    "history = voxnet_model.fit(X, y, epochs=1)"
   ]
  },
  {
   "cell_type": "markdown",
   "metadata": {},
   "source": [
    "- Check loss again"
   ]
  },
  {
   "cell_type": "code",
   "execution_count": null,
   "metadata": {},
   "outputs": [],
   "source": [
    "y_pred = voxnet_model.predict(X[:5])\n",
    "print('Result:          ', voxnet_model.test_on_batch(X[:5],y[:5]))\n",
    "print('Expected result: ', np.sum((y[:5]-y_pred[:5]*(y[:5]!=0))**2)/np.sum(y[:5]!=0))"
   ]
  },
  {
   "cell_type": "markdown",
   "metadata": {},
   "source": [
    "- Define the network with 2D-3D structure"
   ]
  },
  {
   "cell_type": "code",
   "execution_count": null,
   "metadata": {},
   "outputs": [],
   "source": [
    "def extractChannel(inp, i):\n",
    "    # Input 2D image with K channel. extract i-th channel\n",
    "    return K.expand_dims(inp[:,:, i])\n",
    "\n",
    "def sqeezeChannel(inp):\n",
    "    return K.squeeze(inp,axis=-1)\n",
    "\n",
    "def expandChannel(inp):\n",
    "    return K.expand_dims(inp)"
   ]
  },
  {
   "cell_type": "code",
   "execution_count": null,
   "metadata": {},
   "outputs": [],
   "source": [
    "matrix_size = (50, 50, 50, 1)\n",
    "last_channel = 30\n",
    "\n",
    "# 2D network\n",
    "def sub2Dnetwork_1c():\n",
    "    inp_2D = Input((matrix_size[0], matrix_size[1], 1))\n",
    "\n",
    "    x = Conv2D(32, padding='same', kernel_size=3)(inp_2D)\n",
    "    x = Conv2D(32, padding='same', kernel_size=3)(x)\n",
    "    x = MaxPooling2D((4,4))(x)\n",
    "    x = Conv2D(64, padding='same', kernel_size=3)(x)\n",
    "    x = Conv2D(32, padding='same', kernel_size=3)(x)\n",
    "    x = UpSampling2D((4,4))(x)\n",
    "    x = ZeroPadding2D(1)(x)\n",
    "    x = Conv2D(32, padding='same', kernel_size=3)(x)\n",
    "    out = Conv2D(last_channel, padding='same', kernel_size=3)(x)\n",
    "\n",
    "    return  Model(inp_2D, out)\n",
    "\n",
    "def sub2Dnetwork_50c():\n",
    "    inp_2D = Input((matrix_size[:-1]))\n",
    "\n",
    "    x = Conv2D(32, padding='same', kernel_size=3)(inp_2D)\n",
    "    x = Conv2D(32, padding='same', kernel_size=3)(x)\n",
    "    x = MaxPooling2D((4,4))(x)\n",
    "    x = Conv2D(64, padding='same', kernel_size=3)(x)\n",
    "    x = Conv2D(32, padding='same', kernel_size=3)(x)\n",
    "    x = UpSampling2D((4,4))(x)\n",
    "    x = ZeroPadding2D(1)(x)\n",
    "    x = Conv2D(32, padding='same', kernel_size=3)(x)\n",
    "    out = Conv2D(last_channel, padding='same', kernel_size=3)(x)\n",
    "\n",
    "    return  Model(inp_2D, out)\n",
    "\n",
    "def combine2Dnetwork():\n",
    "    inp_2D = Input((matrix_size[0], matrix_size[1], last_channel*(matrix_size[2]+1)))\n",
    "    x = Conv2D(32, padding='same', kernel_size=3)(inp_2D)\n",
    "    x = MaxPooling2D((2,2))(x)\n",
    "    x = Conv2D(64, padding='same', kernel_size=3)(x)\n",
    "    x = MaxPooling2D((2,2))(x)\n",
    "    x = Conv2D(128, padding='same', kernel_size=3)(x)\n",
    "    x = UpSampling2D((2,2))(x)\n",
    "    x = ZeroPadding2D(((0,1),(0,1)))(x)\n",
    "    x = Conv2D(64, padding='same', kernel_size=3)(x)\n",
    "    x = UpSampling2D((2,2))(x)\n",
    "    x = Conv2D(32, padding='same', kernel_size=3)(x)\n",
    "    out = Conv2D(matrix_size[2], padding='same', kernel_size=3)(x)\n",
    "\n",
    "    return Model(inp_2D, out)\n",
    "\n",
    "def get2Dnetwork():\n",
    "    inp = Input(matrix_size[:-1])\n",
    "    subnetworks = []\n",
    "    suboutputs = []\n",
    "    for i in range(matrix_size[-2]):\n",
    "        subnet = sub2Dnetwork_1c()\n",
    "        subout = subnet(Lambda(lambda x: extractChannel(x, i))(inp))\n",
    "        suboutputs.append(subout)\n",
    "        subnetworks.append(subnet)\n",
    "    subnet = sub2Dnetwork_50c()\n",
    "    subout = subnet(inp)\n",
    "    suboutputs.append(subout)\n",
    "    subnetworks.append(subnet)\n",
    "\n",
    "    inp_combined = Concatenate()(suboutputs)\n",
    "    comb = combine2Dnetwork()\n",
    "    return Model(inp,comb(inp_combined))"
   ]
  },
  {
   "cell_type": "code",
   "execution_count": null,
   "metadata": {},
   "outputs": [],
   "source": [
    "# 3D network\n",
    "inp = Input(matrix_size)\n",
    "inp_2D = Lambda(sqeezeChannel)(inp)\n",
    "\n",
    "X_model = get2Dnetwork()\n",
    "Y_model = get2Dnetwork()\n",
    "Z_model = get2Dnetwork()\n",
    "\n",
    "inp_2D_X = Permute((1,2,3))(inp_2D)\n",
    "inp_2D_Y = Permute((1,3,2))(inp_2D)\n",
    "inp_2D_Z = Permute((2,3,1))(inp_2D)\n",
    "\n",
    "out_2D_X = X_model(inp_2D_X)\n",
    "out_2D_Y = Y_model(inp_2D_Y)\n",
    "out_2D_Z = Z_model(inp_2D_Z)\n",
    "\n",
    "inp_3D = Concatenate()([inp,\n",
    "                        Lambda(expandChannel)(out_2D_X),\n",
    "                        Lambda(expandChannel)(out_2D_Y),\n",
    "                        Lambda(expandChannel)(out_2D_Z)])\n",
    "\n",
    "enc = Conv3D(32, kernel_size=3, strides=1, padding='same', activation='relu')(inp_3D)\n",
    "enc = Conv3D(32, kernel_size=3, strides=1, padding='same', activation='relu')(enc)\n",
    "enc = MaxPooling3D((2,2,2))(enc)\n",
    "\n",
    "enc = Conv3D(64, kernel_size=3, strides=1, padding='same', activation='relu')(enc)\n",
    "enc = Conv3D(64, kernel_size=3, strides=1, padding='same', activation='relu')(enc)\n",
    "enc = MaxPooling3D((2,2,2))(enc)\n",
    "\n",
    "enc = Conv3D(128, kernel_size=3, strides=1, padding='same', activation='relu')(enc)\n",
    "enc = Conv3D(128, kernel_size=3, strides=1, padding='same', activation='relu')(enc)\n",
    "dec = UpSampling3D((2,2,2))(enc)\n",
    "dec = ZeroPadding3D(((0,1),(0,1),(0,1)))(dec) # pad 0s at one side to match the size\n",
    "\n",
    "dec = Conv3D(64, kernel_size=3, strides=1, padding='same', activation='relu')(dec)\n",
    "dec = Conv3D(64, kernel_size=3, strides=1, padding='same', activation='relu')(dec)\n",
    "dec = UpSampling3D((2,2,2))(dec)\n",
    "\n",
    "dec = Conv3D(32, kernel_size=3, strides=1, padding='same', activation='relu')(dec)\n",
    "dec = Conv3D(32, kernel_size=3, strides=1, padding='same', activation='relu')(dec)\n",
    "\n",
    "out = Conv3D(1, kernel_size=3, strides=1, padding='same', activation='sigmoid')(dec) # Assume normalized data [0,1]\n",
    "\n",
    "lr2D_model = Model(inp, out)\n",
    "lr2D_model.compile(optimizer='adam',loss=RadiationLoss)"
   ]
  },
  {
   "cell_type": "code",
   "execution_count": null,
   "metadata": {
    "scrolled": false
   },
   "outputs": [],
   "source": [
    "lr2D_model.summary()"
   ]
  },
  {
   "cell_type": "code",
   "execution_count": null,
   "metadata": {},
   "outputs": [],
   "source": [
    "history = lr2D_model.fit(X, y, epochs=1)"
   ]
  },
  {
   "cell_type": "code",
   "execution_count": null,
   "metadata": {},
   "outputs": [],
   "source": []
  }
 ],
 "metadata": {
  "kernelspec": {
   "display_name": "Python 3",
   "language": "python",
   "name": "python3"
  },
  "language_info": {
   "codemirror_mode": {
    "name": "ipython",
    "version": 3
   },
   "file_extension": ".py",
   "mimetype": "text/x-python",
   "name": "python",
   "nbconvert_exporter": "python",
   "pygments_lexer": "ipython3",
   "version": "3.6.7"
  }
 },
 "nbformat": 4,
 "nbformat_minor": 2
}
