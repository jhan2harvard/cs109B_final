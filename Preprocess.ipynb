{
 "cells": [
  {
   "cell_type": "markdown",
   "metadata": {},
   "source": [
    "###### [NOTE] The original input increments by 0.5, but for numerical stability I multiple all by 2, and round to the nearest integer. so now instead of 50*50*50, it is 100*100*100"
   ]
  },
  {
   "cell_type": "code",
   "execution_count": null,
   "metadata": {},
   "outputs": [],
   "source": [
    "import sys, os, glob\n",
    "import calendar\n",
    "import matplotlib.pyplot as plt\n",
    "import seaborn as sns\n",
    "import pandas as pd\n",
    "import numpy as np\n",
    "from mpl_toolkits.mplot3d import Axes3D\n",
    "\n",
    "pd.set_option('display.max_colwidth', -1)"
   ]
  },
  {
   "cell_type": "code",
   "execution_count": null,
   "metadata": {},
   "outputs": [],
   "source": [
    "# you can later use this array to iterate through all files\n",
    "files = [file for file in glob.glob(\"result/*.txt\")]\n",
    "print (\"NUMBER OF FILES IN RESULT FOLDER: \", len(files))"
   ]
  },
  {
   "cell_type": "markdown",
   "metadata": {},
   "source": [
    "###### FUNCTIONS"
   ]
  },
  {
   "cell_type": "code",
   "execution_count": null,
   "metadata": {},
   "outputs": [],
   "source": [
    "def getBuildingHeights(filename):\n",
    "    '''\n",
    "    input: name of result file\n",
    "    output: array of 3 heights of our target building (i.e [3,27,6])\n",
    "    '''\n",
    "    return filename.split(\"/\")[-1].replace(\".txt\", \"\").split(\",\")\n",
    "\n",
    "def createColumnMapper():\n",
    "    mapper = {0: \"x\", 1:\"y\", 2:\"z\"}\n",
    "    month = [calendar.month_name[i+1] for i in range(12)]\n",
    "    for i in range(3, 3+12):\n",
    "        mapper[i] = month[i-3]\n",
    "    return mapper\n",
    "\n",
    "def convertToDF(fname):\n",
    "    '''\n",
    "    input: name of result file\n",
    "    output: pandas df\n",
    "    '''\n",
    "    with open(fname) as f:\n",
    "        content = f.readlines()   \n",
    "    content = np.array([line.replace(\"\\n\", \"\").split(\",\") for line in content[1:]])\n",
    "    return pd.DataFrame(data=content)\n",
    "\n",
    "def matplotlibViz(df):\n",
    "    '''\n",
    "    Visualizes in 3D a dataframe\n",
    "    input: dataframe\n",
    "    output: None\n",
    "    '''\n",
    "    fig = plt.figure(figsize=(8,8))\n",
    "    ax = fig.add_subplot(111, projection='3d')\n",
    "    ax.scatter(df['x'], df['y'], df['z'])\n",
    "    plt.title(\"3-D rendered building\")\n",
    "    plt.show()\n",
    "\n",
    "def convertToGrid(df, size=(100,100,100), increment=1):\n",
    "    '''\n",
    "    zero pad all the coordinates that do not have radiation values (even the coordinates inside the building are zero padded).\n",
    "    input: dataframe\n",
    "    output: dataframe\n",
    "    \n",
    "    '''\n",
    "    res = []\n",
    "    temp = df_building[['x', 'y', 'z']]*2\n",
    "    temp = temp.apply(pd.to_numeric, errors='coerce', downcast=\"integer\")\n",
    "    hashmap = {tuple(row) for index, row in temp.iterrows()}\n",
    "\n",
    "    for x in range(0, size[0]+increment, increment):\n",
    "        for y in range(0, size[0]+increment, increment):\n",
    "            for z in range(0, size[0]+increment, increment):\n",
    "                if (x,y,z) in hashmap:\n",
    "                    res.append([x,y,z,1])\n",
    "                else:\n",
    "                    res.append([x,y,z,0])\n",
    "    \n",
    "    assert len(res) == (size[0]+1)**3\n",
    "    return pd.DataFrame(data=res)"
   ]
  },
  {
   "cell_type": "markdown",
   "metadata": {},
   "source": [
    "###### CONVERTED DATAFRAME"
   ]
  },
  {
   "cell_type": "code",
   "execution_count": null,
   "metadata": {
    "scrolled": true
   },
   "outputs": [],
   "source": [
    "FILE_NAME = \"result/30,24,6.txt\"\n",
    "df = convertToDF(FILE_NAME)\n",
    "df_building = df.rename(index=int, columns=createColumnMapper()).rename(index=int, columns={15:\"Annual Sum\"}).apply(pd.to_numeric, errors='coerce')\n",
    "df_building.head(5)"
   ]
  },
  {
   "cell_type": "markdown",
   "metadata": {},
   "source": [
    "###### PADDING"
   ]
  },
  {
   "cell_type": "code",
   "execution_count": null,
   "metadata": {},
   "outputs": [],
   "source": [
    "convertToGrid(df_building).head()"
   ]
  },
  {
   "cell_type": "markdown",
   "metadata": {},
   "source": [
    "###### MATPLOTLIB VISUALIZATION OF OUR TARGET BUILDING"
   ]
  },
  {
   "cell_type": "code",
   "execution_count": null,
   "metadata": {},
   "outputs": [],
   "source": [
    "# 30,24,6 HEIGHTS\n",
    "matplotlibViz(df_building)"
   ]
  },
  {
   "cell_type": "markdown",
   "metadata": {},
   "source": [
    "###### MODEL PROTOTYPE\n",
    "\n",
    "   Initial naive approach is to have two separate 3D-convolution for our target building and the boundary buildings. This will ensure that the two inputs (target, boundary) are separated in our architecture. After the 3D convolution, we could first try with a simple concatenation of the dense layer of the resulting outputs, then do some fc layers, then do a prediction coordinate by coordinate (since we have a boundary of 50 by 50 by 50).\n",
    "    \n",
    "   If this sort of works, then we could play around with integrating some sort of LSTM to do a monthly radiation prediction. I might be completely off about this (not sure what our end goal is), so please tell me if this sounds off.\n",
    "    \n",
    "   We could refer to https://gist.github.com/albertomontesg/d8b21a179c1e6cca0480ebdf292c34d2 for a basic idea of how to do a 3D CNN."
   ]
  }
 ],
 "metadata": {
  "kernelspec": {
   "display_name": "Python 3",
   "language": "python",
   "name": "python3"
  },
  "language_info": {
   "codemirror_mode": {
    "name": "ipython",
    "version": 3
   },
   "file_extension": ".py",
   "mimetype": "text/x-python",
   "name": "python",
   "nbconvert_exporter": "python",
   "pygments_lexer": "ipython3",
   "version": "3.6.8"
  }
 },
 "nbformat": 4,
 "nbformat_minor": 2
}
