{
 "cells": [
  {
   "cell_type": "markdown",
   "metadata": {
    "colab_type": "text",
    "id": "raI2_VQLKhvE"
   },
   "source": [
    "###### [NOTE] The original input increments by 0.5, but for numerical stability I multiple all by 2, and round to the nearest integer. so now instead of 50*50*50, it is 100*100*100"
   ]
  },
  {
   "cell_type": "code",
   "execution_count": null,
   "metadata": {
    "colab": {},
    "colab_type": "code",
    "id": "IrCAUQ6nKhvF"
   },
   "outputs": [],
   "source": [
    "import sys, os, glob\n",
    "import calendar\n",
    "import matplotlib.pyplot as plt\n",
    "import seaborn as sns\n",
    "import pandas as pd\n",
    "import numpy as np\n",
    "from mpl_toolkits.mplot3d import Axes3D\n",
    "\n",
    "pd.set_option('display.max_colwidth', -1)"
   ]
  },
  {
   "cell_type": "code",
   "execution_count": null,
   "metadata": {
    "colab": {
     "base_uri": "https://localhost:8080/",
     "height": 118
    },
    "colab_type": "code",
    "id": "WI8T9jD1KhvH",
    "outputId": "9caeb171-a95d-4f4a-9e92-82f341f3c51a"
   },
   "outputs": [],
   "source": [
    "# Load the Drive helper and mount - connect to your drive\n",
    "from google.colab import drive\n",
    "drive.mount('/content/drive')"
   ]
  },
  {
   "cell_type": "code",
   "execution_count": null,
   "metadata": {
    "colab": {
     "base_uri": "https://localhost:8080/",
     "height": 33
    },
    "colab_type": "code",
    "id": "pbpXjlxrLD34",
    "outputId": "ae1ca6be-62f0-4f4f-904c-df3e9549e4c0"
   },
   "outputs": [],
   "source": [
    "# you can later use this array to iterate through all files\n",
    "filepath = '/content/drive/My Drive/Classes/109B_final_project/results_sample' # replace this with the path in your drive to the cs109_ folder results_sample folder on the drive\n",
    "files = [file for file in glob.glob(filepath+\"/*.txt\")]\n",
    "print (\"NUMBER OF FILES IN RESULT FOLDER: \", len(files))"
   ]
  },
  {
   "cell_type": "markdown",
   "metadata": {
    "colab_type": "text",
    "id": "MVDPmhtgKhvL"
   },
   "source": [
    "###### FUNCTIONS"
   ]
  },
  {
   "cell_type": "code",
   "execution_count": null,
   "metadata": {
    "colab": {},
    "colab_type": "code",
    "id": "w1Hb5CzXKhvL"
   },
   "outputs": [],
   "source": [
    "def getBuildingHeights(filename):\n",
    "    '''\n",
    "    input: name of result file\n",
    "    output: array of 3 heights of our target building (i.e [3,27,6])\n",
    "    '''\n",
    "    return filename.split(\"/\")[-1].replace(\".txt\", \"\").split(\",\")\n",
    "\n",
    "def createColumnMapper():\n",
    "    mapper = {0: \"x\", 1:\"y\", 2:\"z\"}\n",
    "    month = [calendar.month_name[i+1] for i in range(12)]\n",
    "    for i in range(3, 3+12):\n",
    "        mapper[i] = month[i-3]\n",
    "    return mapper\n",
    "\n",
    "def convertToDF(fname):\n",
    "    '''\n",
    "    input: name of result file\n",
    "    output: pandas df\n",
    "    '''\n",
    "    with open(fname) as f:\n",
    "        content = f.readlines()   \n",
    "    content = np.array([line.replace(\"\\n\", \"\").split(\",\") for line in content[1:]])\n",
    "    return pd.DataFrame(data=content)\n",
    "\n",
    "def matplotlibViz(df, angle1=None, angle2=None, s=1, z=None):\n",
    "    '''\n",
    "    Visualizes in 3D a dataframe\n",
    "    input: dataframe\n",
    "    output: None\n",
    "    '''\n",
    "    color = {0: 'blue', 1:'red'}\n",
    "    fig = plt.figure(figsize=(10,10))\n",
    "    ax = fig.add_subplot(111, projection='3d')\n",
    "    df = df.loc[(df['building'] == 1) & (df['z'] == z)] if z != None else df.loc[df['building'] == 1]\n",
    "    df['moved'] = df['moved'].apply(lambda x: color[int(x)])\n",
    "    ax.scatter(df['x'], df['y'], df['z'], s=s, color=df['moved'])\n",
    "    ax.set_xlabel('X axis')\n",
    "    ax.set_ylabel('Y axis')\n",
    "    ax.set_zlabel('Z axis')\n",
    "    ax.view_init(angle1, angle2)\n",
    "    plt.title(\"3-D rendered building\")\n",
    "    plt.show()\n",
    "    \n",
    "def convertToGridWithoutPad(df, size=(100,100,100), increment=1):\n",
    "    '''\n",
    "    zero pad all the coordinates that do not have radiation values (even the coordinates inside the building are zero padded).\n",
    "    input: dataframe\n",
    "    output: dataframe\n",
    "    \n",
    "    '''\n",
    "    res = []\n",
    "    temp = df_building[['x', 'y', 'z']]*2\n",
    "    # NEW RESULT WITH RAD VALUE (CHANGES START HERE)\n",
    "    temp['rad'] = df_building[['Annual Sum']]\n",
    "    temp = temp.apply(pd.to_numeric, errors='coerce', downcast=\"integer\")\n",
    "    # CREATE HASHMAP FOR RADIATION\n",
    "    hashmap = {}\n",
    "    for index, row in temp.iterrows():\n",
    "        hashmap[tuple(row[:-1])] = row[-1]\n",
    "    \n",
    "    for z in range(0, size[0]+increment, increment):\n",
    "        for y in range(0, size[0]+increment, increment):\n",
    "            for x in range(0, size[0]+increment, increment):\n",
    "                if (x,y,z) in hashmap:\n",
    "                    res.append([x,y,z,hashmap[(x,y,z)], 1, 1]) # FOURTH COLUMN WE ADD RADIATION\n",
    "                else:\n",
    "                    res.append([x,y,z,0,0, 1]) # FOURTH COLUMN WE ADD RADIATION, BUT ITS ALL ZERO BECAUSE IT'S INSIDE THE BUILDING\n",
    "    \n",
    "    return pd.DataFrame(data=res, columns=['x', 'y', 'z', 'rad', 'building', 'moved'])            \n",
    "                    \n",
    "    \n",
    "def convertToGrid(df, size=(100,100,100), increment=1):\n",
    "    '''\n",
    "    zero pad all the coordinates that do not have radiation values (even the coordinates inside the building are zero padded).\n",
    "    input: dataframe\n",
    "    output: dataframe\n",
    "    \n",
    "    '''\n",
    "    res = []\n",
    "    marked = set()\n",
    "    \n",
    "    temp = df_building[['x', 'y', 'z']]*2\n",
    "    temp['rad'] = df_building[['Annual Sum']]\n",
    "    temp = temp.apply(pd.to_numeric, errors='coerce', downcast=\"integer\")\n",
    "    # CREATE HASHMAP FOR RADIATION\n",
    "    hashmap = {}\n",
    "    for index, row in temp.iterrows():\n",
    "        hashmap[tuple(row[:-1])] = row[-1]\n",
    "    \n",
    "    temp = False\n",
    "    for z in range(0, size[0]+increment, increment):\n",
    "        for y in range(0, size[0]+increment, increment):\n",
    "            for x in range(0, size[0]+increment, increment):\n",
    "                if (x,y,z) in hashmap:\n",
    "                    if temp:\n",
    "                        res.append([x,y,z,hashmap[(x,y,z)], temp])\n",
    "                        temp = not temp\n",
    "                    else:\n",
    "                        temp = not temp\n",
    "                        res.append([x,y,z,hashmap[(x,y,z)], temp])\n",
    "                else:\n",
    "                    res.append([x,y,z,0,temp]) \n",
    "    \n",
    "    return pd.DataFrame(data=res, columns=['x', 'y', 'z', 'rad', 'building'])"
   ]
  },
  {
   "cell_type": "markdown",
   "metadata": {
    "colab_type": "text",
    "id": "cF_lZjvvKhvN"
   },
   "source": [
    "###### CONVERTED DATAFRAME"
   ]
  },
  {
   "cell_type": "code",
   "execution_count": null,
   "metadata": {
    "colab": {
     "base_uri": "https://localhost:8080/",
     "height": 191
    },
    "colab_type": "code",
    "id": "N3_4iKUwKhvO",
    "outputId": "439267bc-fe41-4fd7-d46e-db4cc24a8662",
    "scrolled": true
   },
   "outputs": [],
   "source": [
    "# FILE_NAME = filepath+\"/0,0,3.txt\"\n",
    "FILE_NAME = filepath+\"/6,18,12.txt\"\n",
    "df = convertToDF(FILE_NAME)\n",
    "df_building = df.rename(index=int, columns=createColumnMapper()).rename(index=int, columns={15:\"Annual Sum\"}).apply(pd.to_numeric, errors='coerce')\n",
    "df_building.head(5)"
   ]
  },
  {
   "cell_type": "markdown",
   "metadata": {
    "colab_type": "text",
    "id": "YAJn3R2hKhvQ"
   },
   "source": [
    "###### PADDING"
   ]
  },
  {
   "cell_type": "code",
   "execution_count": null,
   "metadata": {
    "colab": {},
    "colab_type": "code",
    "id": "CrycyhtaKhvQ"
   },
   "outputs": [],
   "source": [
    "def matplotlibViz(df, angle1=None, angle2=None, s=1, z=None):\n",
    "    '''\n",
    "    Visualizes in 3D a dataframe\n",
    "    input: dataframe\n",
    "    output: None\n",
    "    '''\n",
    "    color = {0: 'blue', 1:'red', 2:'green', 3: 'black'}\n",
    "    fig = plt.figure(figsize=(10,10))\n",
    "    ax = fig.add_subplot(111, projection='3d')\n",
    "    df = df.loc[(df['building'] == 1) & (df['z'] == z)] if z != None else df.loc[df['building'] == 1]\n",
    "    df['moved'] = df['moved'].apply(lambda x: color[int(x)])\n",
    "    ax.scatter(df['x'], df['y'], df['z'], s=s, color=df['moved'])\n",
    "    ax.set_xlabel('X axis')\n",
    "    ax.set_ylabel('Y axis')\n",
    "    ax.set_zlabel('Z axis')\n",
    "    ax.view_init(angle1, angle2)\n",
    "    plt.title(\"3-D rendered building\")\n",
    "    plt.show()\n",
    "\n",
    "def pushSurfacesInside(df, size=(100,100,100), increment=1):\n",
    "    res = []\n",
    "    temp = df_building[['x', 'y', 'z']]*2\n",
    "    temp['rad'] = df_building[['Annual Sum']]\n",
    "    temp = temp.apply(pd.to_numeric, errors='coerce', downcast=\"integer\")\n",
    "    # CREATE HASHMAP FOR RADIATION\n",
    "    radiationMap = {}\n",
    "    for index, row in temp.iterrows():\n",
    "        radiationMap[tuple(row[:-1])] = row[-1]\n",
    "    \n",
    "    # X - Axis PUSH INSIDE\n",
    "    for z in range(0, size[0]+increment, increment):\n",
    "        for y in range(0, size[0]+increment, increment):\n",
    "            for x in range(0, size[0]+increment, increment):\n",
    "                if (x,y,z) in radiationMap and (x+increment*2, y, z) not in radiationMap:\n",
    "                    res.append([x+1,y,z, radiationMap[(x,y,z)], 1, 1])\n",
    "                    break\n",
    "                elif (x,y,z) in radiationMap and (x+increment*2, y, z) in radiationMap:\n",
    "                    break\n",
    "            for x in reversed(range(0, size[0]+increment, increment)):\n",
    "                if (x,y,z) in radiationMap and (x-increment*2, y, z) not in radiationMap:\n",
    "                    res.append([x-1,y,z, radiationMap[(x,y,z)], 1, 2])\n",
    "                    break\n",
    "                elif (x,y,z) in radiationMap and (x-increment*2, y, z) in radiationMap:\n",
    "                    break\n",
    "    \n",
    "    # Y - Axis PUSH INSIDE\n",
    "    for z in range(0, size[0]+increment, increment):\n",
    "        for x in range(0, size[0]+increment, increment):\n",
    "            for y in range(0, size[0]+increment, increment):\n",
    "                if (x,y,z) in radiationMap and (x, y+increment*2, z) not in radiationMap:\n",
    "                    res.append([x,y+1,z, radiationMap[(x,y,z)], 1, 1])\n",
    "                    break\n",
    "                elif (x,y,z) in radiationMap and (x, y+increment*2, z) in radiationMap:\n",
    "                    break\n",
    "            for y in reversed(range(0, size[0]+increment, increment)):\n",
    "                if (x,y,z) in radiationMap and (x, y-increment*2, z) not in radiationMap:\n",
    "                    res.append([x,y-1,z, radiationMap[(x,y,z)], 1, 2])\n",
    "                    break\n",
    "                elif (x,y,z) in radiationMap and (x, y-increment*2, z) in radiationMap:\n",
    "                    break\n",
    "    \n",
    "    # Z - Axis PUSH INSIDE\n",
    "    for x in range(0, size[0]+increment, increment):\n",
    "        for y in range(0, size[0]+increment, increment):\n",
    "            for z in range(0, size[0]+increment, increment):\n",
    "                if (x,y,z) in radiationMap and (x, y, z+increment*2) not in radiationMap:\n",
    "                    res.append([x,y,z+1, radiationMap[(x,y,z)], 1, 0])\n",
    "                    break\n",
    "                elif (x,y,z) in radiationMap and (x, y, z+increment*2) in radiationMap:\n",
    "                    break\n",
    "            for z in reversed(range(0, size[0]+increment, increment)):\n",
    "                if (x,y,z) in radiationMap and (x, y, z-increment*2) not in radiationMap:\n",
    "                    res.append([x,y,z-1, radiationMap[(x,y,z)], 1, 0])\n",
    "                    break\n",
    "                elif (x,y,z) in radiationMap and (x, y, z-increment*2) in radiationMap:\n",
    "                    break\n",
    "                    \n",
    "    return pd.DataFrame(data=res, columns=['x', 'y', 'z', 'Annual Sum', 'building', 'moved'])  "
   ]
  },
  {
   "cell_type": "code",
   "execution_count": null,
   "metadata": {
    "colab": {},
    "colab_type": "code",
    "id": "EdY2QpW1KhvS"
   },
   "outputs": [],
   "source": [
    "df_building_original = convertToGridWithoutPad(df_building)"
   ]
  },
  {
   "cell_type": "code",
   "execution_count": null,
   "metadata": {
    "colab": {
     "base_uri": "https://localhost:8080/",
     "height": 672
    },
    "colab_type": "code",
    "id": "8trdZiSwKhvU",
    "outputId": "e3152459-a4e0-48f4-831f-8171bd770172"
   },
   "outputs": [],
   "source": [
    "matplotlibViz(df_building_original, s=1, z=0) # only view slice of z coordinate (horizontal slice at z=1)"
   ]
  },
  {
   "cell_type": "code",
   "execution_count": null,
   "metadata": {
    "colab": {
     "base_uri": "https://localhost:8080/",
     "height": 672
    },
    "colab_type": "code",
    "id": "_VxysWEgPVEK",
    "outputId": "faa09709-2d8c-4208-f30e-b614c86ea917"
   },
   "outputs": [],
   "source": [
    "matplotlibViz(df_building_original)"
   ]
  },
  {
   "cell_type": "code",
   "execution_count": null,
   "metadata": {
    "colab": {},
    "colab_type": "code",
    "id": "pzU3_y1aKhvW"
   },
   "outputs": [],
   "source": [
    "df_building_pushed = pushSurfacesInside(df_building)"
   ]
  },
  {
   "cell_type": "code",
   "execution_count": null,
   "metadata": {
    "colab": {
     "base_uri": "https://localhost:8080/",
     "height": 672
    },
    "colab_type": "code",
    "id": "0G8URCrBKhvX",
    "outputId": "3a1f90ee-ccde-449e-b9b5-50f3a4ecb3ed"
   },
   "outputs": [],
   "source": [
    "matplotlibViz(df_building_pushed, s=3, z=21) # only view slice of z coordinate (horizontal slice at z=1)"
   ]
  },
  {
   "cell_type": "code",
   "execution_count": null,
   "metadata": {
    "colab": {
     "base_uri": "https://localhost:8080/",
     "height": 191
    },
    "colab_type": "code",
    "id": "KQs-Jl1OKhvZ",
    "outputId": "d22c9cf9-740e-4828-dd22-2b651bf79ed8"
   },
   "outputs": [],
   "source": [
    "df_building_pushed.head(5)"
   ]
  },
  {
   "cell_type": "code",
   "execution_count": null,
   "metadata": {
    "colab": {},
    "colab_type": "code",
    "id": "7nK1LNeNKhvb"
   },
   "outputs": [],
   "source": [
    "import collections\n",
    "\n",
    "def removeOverlappingPoints(df):\n",
    "    '''\n",
    "    REMOVES OVERLAPPING COORDINATES THAT HAVE MORE THAN ONE VALUE\n",
    "    \n",
    "    '''\n",
    "    everyDataPointIncludingOverlaps =  [tuple(row[:3]) for idx, row in df.iterrows()]\n",
    "    hashmap = {tuple(row[:3]): row[3] for index, row in df.iterrows()}  # CREATE HASHMAP FOR RADIATION\n",
    "    counter = collections.Counter(everyDataPointIncludingOverlaps)\n",
    "    uniqueCoordinates = [k for k, v in counter.items() if v == 1]  \n",
    "    print ('NUMBER OF UNIQUE COORDINATES' , len(uniqueCoordinates))\n",
    "    res = [list(row) for idx, row in df.iterrows() if tuple(row[:3]) in uniqueCoordinates]   \n",
    "    return pd.DataFrame(data=res, columns=['x', 'y', 'z', 'Annual Sum', 'building', 'moved']) \n"
   ]
  },
  {
   "cell_type": "code",
   "execution_count": null,
   "metadata": {
    "colab": {
     "base_uri": "https://localhost:8080/",
     "height": 33
    },
    "colab_type": "code",
    "id": "qzI5NLhyKhvd",
    "outputId": "23e54744-07b1-47e3-ac99-39e9a198f61b"
   },
   "outputs": [],
   "source": [
    "df_building_pushed_overlap_removed = removeOverlappingPoints(df_building_pushed)"
   ]
  },
  {
   "cell_type": "code",
   "execution_count": null,
   "metadata": {
    "colab": {
     "base_uri": "https://localhost:8080/",
     "height": 33
    },
    "colab_type": "code",
    "id": "hCrpxKR8Khvf",
    "outputId": "f92c29c0-baf9-4e7e-d7e9-e3f8b210d221"
   },
   "outputs": [],
   "source": [
    "print (df_building_pushed_overlap_removed.shape)"
   ]
  },
  {
   "cell_type": "code",
   "execution_count": null,
   "metadata": {
    "colab": {
     "base_uri": "https://localhost:8080/",
     "height": 672
    },
    "colab_type": "code",
    "id": "j_c-i99wKhvj",
    "outputId": "a79f4b86-973b-44da-9f96-d1df521ec045"
   },
   "outputs": [],
   "source": [
    "matplotlibViz(df_building_pushed_overlap_removed, s=3, z=21) # only view slice of z coordinate (horizontal slice at z=1)"
   ]
  },
  {
   "cell_type": "code",
   "execution_count": null,
   "metadata": {
    "colab": {},
    "colab_type": "code",
    "id": "jvTsrtVfKhvm"
   },
   "outputs": [],
   "source": [
    "def convertToGrid(df, size=(100,100,100), increment=1):\n",
    "    '''\n",
    "    zero pad all the coordinates that do not have radiation values (even the coordinates inside the building are zero padded).\n",
    "    input: dataframe\n",
    "    output: dataframe\n",
    "    \n",
    "    '''\n",
    "    res = []\n",
    "    # CREATE HASHMAP FOR RADIATION\n",
    "    hashmap = {}\n",
    "    for index, row in df.iterrows():\n",
    "        hashmap[tuple(row[:3])] = row[4:]\n",
    "    \n",
    "    for z in range(0, size[0]+increment, increment):\n",
    "        for y in range(0, size[0]+increment, increment):\n",
    "            padding = False\n",
    "            for x in range(0, size[0]+increment, increment):\n",
    "                if (x,y,z) in hashmap and (x+increment*2, y, z) not in hashmap:\n",
    "                    x += increment*2\n",
    "                    while ((x,y,z) not in hashmap):\n",
    "                        res.append([x,y,z, 0, 1, 3])\n",
    "                        x += increment*2\n",
    "                    break\n",
    "                elif (x,y,z) in hashmap and (x+increment*2, y, z) in hashmap:\n",
    "                    break\n",
    "    original = [list(row) for index, row in df.iterrows()]\n",
    "    return pd.DataFrame(data=res+original, columns=['x', 'y', 'z', 'rad', 'building', 'moved'])"
   ]
  },
  {
   "cell_type": "code",
   "execution_count": null,
   "metadata": {
    "colab": {},
    "colab_type": "code",
    "id": "No0C84FJKhvq"
   },
   "outputs": [],
   "source": [
    "final = convertToGrid(df_building_pushed_overlap_removed)"
   ]
  },
  {
   "cell_type": "code",
   "execution_count": null,
   "metadata": {
    "colab": {
     "base_uri": "https://localhost:8080/",
     "height": 672
    },
    "colab_type": "code",
    "id": "ypjfFINFKhvs",
    "outputId": "6fd66325-5b0d-4105-f6a2-d7edd7a1e90b"
   },
   "outputs": [],
   "source": [
    "matplotlibViz(final, s=3, z=21) # only view slice of z coordinate (horizontal slice at z=1)"
   ]
  },
  {
   "cell_type": "code",
   "execution_count": null,
   "metadata": {
    "colab": {},
    "colab_type": "code",
    "id": "_YGlln_pMb2v"
   },
   "outputs": [],
   "source": [
    "def format_input(final):\n",
    "  input_format = np.zeros((50,50,50))\n",
    "  for row in final.itertuples():\n",
    "    input_format[int(row.x)-1, int(row.y)-1,int(row.z)-1] = 1\n",
    "  return input_format\n"
   ]
  },
  {
   "cell_type": "code",
   "execution_count": null,
   "metadata": {
    "colab": {
     "base_uri": "https://localhost:8080/",
     "height": 33
    },
    "colab_type": "code",
    "id": "NCOj5b-NQORi",
    "outputId": "14ef5318-e76a-4bd1-a031-56d4fb37740a"
   },
   "outputs": [],
   "source": [
    "final = convertToGrid(df_building_pushed_overlap_removed)\n",
    "final_input = format_input(final) #3D array (50,50,50)\n",
    "\n",
    "\n",
    "print (final_input.shape)"
   ]
  },
  {
   "cell_type": "markdown",
   "metadata": {
    "colab_type": "text",
    "id": "ztkbANFsSIyA"
   },
   "source": [
    "Plotting below to check: "
   ]
  },
  {
   "cell_type": "code",
   "execution_count": null,
   "metadata": {
    "colab": {
     "base_uri": "https://localhost:8080/",
     "height": 265
    },
    "colab_type": "code",
    "id": "4bTfKOqPPF0B",
    "outputId": "8b5c3a84-84cd-4a15-9a94-be42a676681e"
   },
   "outputs": [],
   "source": [
    "# Plot 3D matrix - scatter\n",
    "import matplotlib.pyplot as plt \n",
    "from mpl_toolkits.mplot3d import Axes3D\n",
    "\n",
    "x,y,z = final_input.nonzero() # plot only nonzero \n",
    "x1, y1,z1 =np.where(final_input[:,:,:] == 0)\n",
    "  \n",
    "fig = plt.figure()\n",
    "ax = fig.add_subplot(111, projection='3d')\n",
    "ax.scatter(x, y, z, zdir='z', s=5)"
   ]
  },
  {
   "cell_type": "code",
   "execution_count": null,
   "metadata": {
    "colab": {
     "base_uri": "https://localhost:8080/",
     "height": 672
    },
    "colab_type": "code",
    "id": "_glRlpgIPIit",
    "outputId": "8a079233-2619-4cec-8aad-3683af27c1fc"
   },
   "outputs": [],
   "source": [
    "#Verify against original df (from txt file)\n",
    "matplotlibViz(df_building_original)"
   ]
  },
  {
   "cell_type": "code",
   "execution_count": null,
   "metadata": {
    "colab": {},
    "colab_type": "code",
    "id": "0f1Vd3AHPmF0"
   },
   "outputs": [],
   "source": []
  }
 ],
 "metadata": {
  "colab": {
   "collapsed_sections": [],
   "name": "Preprocess_V4.ipynb",
   "provenance": [],
   "version": "0.3.2"
  },
  "kernelspec": {
   "display_name": "Python 3",
   "language": "python",
   "name": "python3"
  },
  "language_info": {
   "codemirror_mode": {
    "name": "ipython",
    "version": 3
   },
   "file_extension": ".py",
   "mimetype": "text/x-python",
   "name": "python",
   "nbconvert_exporter": "python",
   "pygments_lexer": "ipython3",
   "version": "3.6.7"
  }
 },
 "nbformat": 4,
 "nbformat_minor": 1
}
